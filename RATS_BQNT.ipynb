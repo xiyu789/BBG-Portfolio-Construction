{
 "cells": [
  {
   "cell_type": "code",
   "execution_count": 1,
   "metadata": {},
   "outputs": [],
   "source": [
    "import bql\n",
    "import pandas as pd\n",
    "import numpy as np\n",
    "from datetime import datetime,timedelta\n",
    "import matplotlib.pyplot as plt\n",
    "# for RATS regression\n",
    "import statsmodels.api as sm\n",
    "from scipy import stats"
   ]
  },
  {
   "cell_type": "code",
   "execution_count": 2,
   "metadata": {},
   "outputs": [],
   "source": [
    "bq = bql.Service()"
   ]
  },
  {
   "cell_type": "code",
   "execution_count": 6,
   "metadata": {},
   "outputs": [
    {
     "data": {
      "text/plain": [
       "(113, 16)"
      ]
     },
     "execution_count": 6,
     "metadata": {},
     "output_type": "execute_result"
    }
   ],
   "source": [
    "#export share buyback company list from\n",
    "universe = bq.univ.members('UKX Index')\n",
    "start_date = '2017-01-01'\n",
    "end_date = '2020-01-01'\n",
    "date_range = bq.func.range(start_date, end_date)\n",
    "\n",
    "#Add filter for status. open and to drop NA, \n",
    "item = bq.data.buyback_programs(announced_date=date_range,status=\"ALL\",type=\"OPEN_MARKET\")\n",
    "#request = bql.Request(universe,item,with_params = dict(mode='cached'))\n",
    "request = bql.Request(universe,item)\n",
    "response = bq.execute(request)\n",
    "df_initial = response[0].df().dropna()\n",
    "df_initial=df_initial.reset_index() #reset ID to a column in dataframe\n",
    "df_initial.shape"
   ]
  },
  {
   "cell_type": "code",
   "execution_count": 4,
   "metadata": {},
   "outputs": [],
   "source": [
    "df_initial.to_excel('RATS_UKX.xlsx', index=False)"
   ]
  },
  {
   "cell_type": "code",
   "execution_count": 7,
   "metadata": {},
   "outputs": [
    {
     "data": {
      "text/html": [
       "<div>\n",
       "<style scoped>\n",
       "    .dataframe tbody tr th:only-of-type {\n",
       "        vertical-align: middle;\n",
       "    }\n",
       "\n",
       "    .dataframe tbody tr th {\n",
       "        vertical-align: top;\n",
       "    }\n",
       "\n",
       "    .dataframe thead th {\n",
       "        text-align: right;\n",
       "    }\n",
       "</style>\n",
       "<table border=\"1\" class=\"dataframe\">\n",
       "  <thead>\n",
       "    <tr style=\"text-align: right;\">\n",
       "      <th></th>\n",
       "      <th>ID</th>\n",
       "      <th>ANNOUNCED_DATE</th>\n",
       "      <th>PCT_COMPLETE</th>\n",
       "    </tr>\n",
       "  </thead>\n",
       "  <tbody>\n",
       "    <tr>\n",
       "      <th>0</th>\n",
       "      <td>FCIT LN Equity</td>\n",
       "      <td>2017-04-25</td>\n",
       "      <td>2.791635</td>\n",
       "    </tr>\n",
       "    <tr>\n",
       "      <th>1</th>\n",
       "      <td>SSE LN Equity</td>\n",
       "      <td>2017-03-31</td>\n",
       "      <td>0.000000</td>\n",
       "    </tr>\n",
       "    <tr>\n",
       "      <th>2</th>\n",
       "      <td>SSE LN Equity</td>\n",
       "      <td>2017-07-05</td>\n",
       "      <td>0.000000</td>\n",
       "    </tr>\n",
       "    <tr>\n",
       "      <th>3</th>\n",
       "      <td>SSE LN Equity</td>\n",
       "      <td>2019-02-01</td>\n",
       "      <td>150.032103</td>\n",
       "    </tr>\n",
       "    <tr>\n",
       "      <th>4</th>\n",
       "      <td>SSE LN Equity</td>\n",
       "      <td>2019-02-01</td>\n",
       "      <td>100.068324</td>\n",
       "    </tr>\n",
       "    <tr>\n",
       "      <th>...</th>\n",
       "      <td>...</td>\n",
       "      <td>...</td>\n",
       "      <td>...</td>\n",
       "    </tr>\n",
       "    <tr>\n",
       "      <th>108</th>\n",
       "      <td>GLEN LN Equity</td>\n",
       "      <td>2018-07-05</td>\n",
       "      <td>218.476314</td>\n",
       "    </tr>\n",
       "    <tr>\n",
       "      <th>109</th>\n",
       "      <td>GLEN LN Equity</td>\n",
       "      <td>2018-09-25</td>\n",
       "      <td>0.000000</td>\n",
       "    </tr>\n",
       "    <tr>\n",
       "      <th>110</th>\n",
       "      <td>GLEN LN Equity</td>\n",
       "      <td>2019-02-20</td>\n",
       "      <td>74.884866</td>\n",
       "    </tr>\n",
       "    <tr>\n",
       "      <th>111</th>\n",
       "      <td>AV/ LN Equity</td>\n",
       "      <td>2017-05-25</td>\n",
       "      <td>98.636456</td>\n",
       "    </tr>\n",
       "    <tr>\n",
       "      <th>112</th>\n",
       "      <td>AV/ LN Equity</td>\n",
       "      <td>2018-05-01</td>\n",
       "      <td>99.999973</td>\n",
       "    </tr>\n",
       "  </tbody>\n",
       "</table>\n",
       "<p>113 rows × 3 columns</p>\n",
       "</div>"
      ],
      "text/plain": [
       "                 ID ANNOUNCED_DATE  PCT_COMPLETE\n",
       "0    FCIT LN Equity     2017-04-25      2.791635\n",
       "1     SSE LN Equity     2017-03-31      0.000000\n",
       "2     SSE LN Equity     2017-07-05      0.000000\n",
       "3     SSE LN Equity     2019-02-01    150.032103\n",
       "4     SSE LN Equity     2019-02-01    100.068324\n",
       "..              ...            ...           ...\n",
       "108  GLEN LN Equity     2018-07-05    218.476314\n",
       "109  GLEN LN Equity     2018-09-25      0.000000\n",
       "110  GLEN LN Equity     2019-02-20     74.884866\n",
       "111   AV/ LN Equity     2017-05-25     98.636456\n",
       "112   AV/ LN Equity     2018-05-01     99.999973\n",
       "\n",
       "[113 rows x 3 columns]"
      ]
     },
     "execution_count": 7,
     "metadata": {},
     "output_type": "execute_result"
    }
   ],
   "source": [
    "#extract columns that we need\n",
    "df_data=df_initial[['ID', 'ANNOUNCED_DATE','PCT_COMPLETE']]\n",
    "df_data"
   ]
  },
  {
   "cell_type": "code",
   "execution_count": null,
   "metadata": {},
   "outputs": [],
   "source": []
  }
 ],
 "metadata": {
  "kernelspec": {
   "display_name": "Python 3 (ipykernel)",
   "language": "python",
   "name": "python3"
  },
  "language_info": {
   "codemirror_mode": {
    "name": "ipython",
    "version": 3
   },
   "file_extension": ".py",
   "mimetype": "text/x-python",
   "name": "python",
   "nbconvert_exporter": "python",
   "pygments_lexer": "ipython3",
   "version": "3.11.4"
  }
 },
 "nbformat": 4,
 "nbformat_minor": 4
}
